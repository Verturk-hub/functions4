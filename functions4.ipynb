{
 "cells": [
  {
   "cell_type": "code",
   "execution_count": 2,
   "source": [
    "numbers = [1, 2, 3, 4, 5, 6, 7, 8, 9, 10]\r\n",
    "numbers.reverse()"
   ],
   "outputs": [],
   "metadata": {}
  },
  {
   "cell_type": "code",
   "execution_count": 15,
   "source": [
    "fruits = [\"mango\", \"banana\", \"guava\", \"kiwi\", \"strawberry\",\"tomato\"]\r\n",
    "vegetables = [\"eggplant\", \"broccoli\", \"carrot\", \"cauliflower\", \"zucchini\", \"tomato\"]\r\n",
    "fruits_and_veggies=[]\r\n",
    "fruits.sort(reverse=True)\r\n",
    "fruits_and_veggies.append(fruits)\r\n",
    "vegetables.sort()\r\n",
    "fruits_and_veggies.append(vegetables)\r\n",
    "fruits_and_veggies"
   ],
   "outputs": [
    {
     "output_type": "execute_result",
     "data": {
      "text/plain": [
       "[['tomato', 'strawberry', 'mango', 'kiwi', 'guava', 'banana'],\n",
       " ['broccoli', 'carrot', 'cauliflower', 'eggplant', 'tomato', 'zucchini']]"
      ]
     },
     "metadata": {},
     "execution_count": 15
    }
   ],
   "metadata": {}
  },
  {
   "cell_type": "code",
   "execution_count": 23,
   "source": [
    "def is_positive(number):\r\n",
    "  if number > 0:\r\n",
    "    return True\r\n",
    "  elif number < 0:\r\n",
    "    return False\r\n",
    "  else:\r\n",
    "    print(\"Zero is not a positive number.\")\r\n",
    "    return False\r\n",
    "    \r\n",
    "\r\n",
    "print(is_positive(0))"
   ],
   "outputs": [
    {
     "output_type": "stream",
     "name": "stdout",
     "text": [
      "Zero is not a positive number.\n",
      "False\n"
     ]
    }
   ],
   "metadata": {}
  },
  {
   "cell_type": "code",
   "execution_count": 24,
   "source": [
    "def is_even(number):\r\n",
    "  if number % 2 == 0:\r\n",
    "    return True\r\n",
    "  else:\r\n",
    "    return False\r\n",
    "\r\n",
    "print(is_even(-4))"
   ],
   "outputs": [
    {
     "output_type": "stream",
     "name": "stdout",
     "text": [
      "True\n"
     ]
    }
   ],
   "metadata": {}
  },
  {
   "cell_type": "code",
   "execution_count": 25,
   "source": [
    "def is_positive_odd(number):\r\n",
    "  if number > 0 and number % 2 == 1:\r\n",
    "    return True\r\n",
    "  else:\r\n",
    "    return False\r\n",
    "\r\n",
    "is_positive_odd(3)"
   ],
   "outputs": [
    {
     "output_type": "execute_result",
     "data": {
      "text/plain": [
       "True"
      ]
     },
     "metadata": {},
     "execution_count": 25
    }
   ],
   "metadata": {}
  }
 ],
 "metadata": {
  "orig_nbformat": 4,
  "language_info": {
   "name": "python",
   "version": "3.8.3",
   "mimetype": "text/x-python",
   "codemirror_mode": {
    "name": "ipython",
    "version": 3
   },
   "pygments_lexer": "ipython3",
   "nbconvert_exporter": "python",
   "file_extension": ".py"
  },
  "kernelspec": {
   "name": "python3",
   "display_name": "Python 3.8.3 64-bit ('base': conda)"
  },
  "interpreter": {
   "hash": "46182d5f787c7496ac3d2ccd0c5d8bf41bffd3ac5e5e93146af501a7f382c533"
  }
 },
 "nbformat": 4,
 "nbformat_minor": 2
}